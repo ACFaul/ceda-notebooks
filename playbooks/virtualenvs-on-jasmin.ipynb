{
 "cells": [
  {
   "cell_type": "code",
   "execution_count": 2,
   "metadata": {},
   "outputs": [],
   "source": [
    "import virtualenv\n",
    "import pip\n",
    "import os\n",
    "\n",
    "# set up base directory install my virtual envs\n",
    "venvs_dir = os.path.join(os.path.expanduser(\"~\"), \"venvs\")\n",
    "\n",
    "if not os.path.isdir(venvs_dir):\n",
    "    os.makedirs(venvs_dir)\n"
   ]
  },
  {
   "cell_type": "code",
   "execution_count": null,
   "metadata": {},
   "outputs": [],
   "source": []
  },
  {
   "cell_type": "code",
   "execution_count": 9,
   "metadata": {},
   "outputs": [
    {
     "name": "stdout",
     "output_type": "stream",
     "text": [
      "copying /opt/jaspy/bin/python => /home/users/astephen/venvs/venv-notebook-eg/bin/python\n"
     ]
    }
   ],
   "source": [
    "# create the virtual environment\n",
    "venv_dir = os.path.join(venvs_dir, 'venv-notebook-eg')\n",
    "virtualenv.create_environment(venv_dir)\n",
    "\n",
    "# activate the venv\n",
    "activate_file = os.path.join(venv_dir, \"bin\", \"activate_this.py\")\n",
    "exec(open(activate_file).read(), dict(__file__=activate_file))"
   ]
  },
  {
   "cell_type": "code",
   "execution_count": 10,
   "metadata": {},
   "outputs": [
    {
     "name": "stdout",
     "output_type": "stream",
     "text": [
      "Failed to import fixnc as expected\n"
     ]
    }
   ],
   "source": [
    "try:\n",
    "    import fixnc\n",
    "except Exception as err:\n",
    "    print('Failed to import fixnc as expected')"
   ]
  },
  {
   "cell_type": "code",
   "execution_count": 11,
   "metadata": {},
   "outputs": [
    {
     "name": "stderr",
     "output_type": "stream",
     "text": [
      "WARNING: pip is being invoked by an old script wrapper. This will fail in a future version of pip.\n",
      "Please see https://github.com/pypa/pip/issues/5599 for advice on fixing the underlying issue.\n",
      "To avoid this problem you can invoke Python with '-m pip' instead of running pip directly.\n"
     ]
    },
    {
     "name": "stdout",
     "output_type": "stream",
     "text": [
      "Processing /home/users/astephen/.cache/pip/wheels/ef/ce/d3/994ec044ddc889f9682b581f7f91bcac05c6b3d4f00fb1975d/fixnc-0.0.1-cp37-none-any.whl\n",
      "Collecting sh>=1.11\n",
      "  Downloading sh-1.13.1-py2.py3-none-any.whl (40 kB)\n",
      "Requirement already satisfied: netcdf4>=1.1.8 in /opt/jaspy/lib/python3.7/site-packages (from fixnc) (1.4.2)\n",
      "Requirement already satisfied: numpy>=1.7 in /opt/jaspy/lib/python3.7/site-packages (from netcdf4>=1.1.8->fixnc) (1.15.4)\n",
      "Requirement already satisfied: cftime in /opt/jaspy/lib/python3.7/site-packages (from netcdf4>=1.1.8->fixnc) (1.0.3.4)\n",
      "Installing collected packages: sh, fixnc\n",
      "Successfully installed fixnc-0.0.1 sh-1.13.1\n"
     ]
    },
    {
     "name": "stderr",
     "output_type": "stream",
     "text": [
      "WARNING: You are using pip version 10.0.1; however, version 20.1.1 is available.\n",
      "You should consider upgrading via the '/opt/jaspy/bin/python -m pip install --upgrade pip' command.\n"
     ]
    }
   ],
   "source": [
    "# pip install a package using the venv as a prefix\n",
    "pip.main([\"install\", \"--prefix\", venv_dir, \"fixnc\"])\n",
    "\n",
    "# demonstrate it works\n",
    "import fixnc"
   ]
  },
  {
   "cell_type": "code",
   "execution_count": 12,
   "metadata": {},
   "outputs": [
    {
     "data": {
      "text/plain": [
       "['Dataset',\n",
       " 'OrderedDict',\n",
       " '__builtins__',\n",
       " '__cached__',\n",
       " '__doc__',\n",
       " '__file__',\n",
       " '__loader__',\n",
       " '__name__',\n",
       " '__package__',\n",
       " '__path__',\n",
       " '__spec__',\n",
       " 'create_variable',\n",
       " 'dump_variable',\n",
       " 'load_variable',\n",
       " 'ncfile',\n",
       " 'np',\n",
       " 'pickle',\n",
       " 'reorder',\n",
       " 'sh']"
      ]
     },
     "execution_count": 12,
     "metadata": {},
     "output_type": "execute_result"
    }
   ],
   "source": [
    "dir(fixnc)"
   ]
  },
  {
   "cell_type": "code",
   "execution_count": null,
   "metadata": {},
   "outputs": [],
   "source": []
  }
 ],
 "metadata": {
  "kernelspec": {
   "display_name": "Python 3 + Jaspy",
   "language": "python",
   "name": "jaspy"
  },
  "language_info": {
   "codemirror_mode": {
    "name": "ipython",
    "version": 3
   },
   "file_extension": ".py",
   "mimetype": "text/x-python",
   "name": "python",
   "nbconvert_exporter": "python",
   "pygments_lexer": "ipython3",
   "version": "3.7.1"
  }
 },
 "nbformat": 4,
 "nbformat_minor": 4
}
